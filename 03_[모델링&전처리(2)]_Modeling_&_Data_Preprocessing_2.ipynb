{
  "nbformat": 4,
  "nbformat_minor": 0,
  "metadata": {
    "colab": {
      "name": "03. [모델링&전처리(2)] Modeling & Data Preprocessing_2 ",
      "provenance": [],
      "authorship_tag": "ABX9TyNZ602RT/hyQ6w8FfnxMV/w",
      "include_colab_link": true
    },
    "kernelspec": {
      "name": "python3",
      "display_name": "Python 3"
    }
  },
  "cells": [
    {
      "cell_type": "markdown",
      "metadata": {
        "id": "view-in-github",
        "colab_type": "text"
      },
      "source": [
        "<a href=\"https://colab.research.google.com/github/mynameis-sohee/Customer-Gender-Prediction/blob/main/03_%5B%EB%AA%A8%EB%8D%B8%EB%A7%81%26%EC%A0%84%EC%B2%98%EB%A6%AC(2)%5D_Modeling_%26_Data_Preprocessing_2.ipynb\" target=\"_parent\"><img src=\"https://colab.research.google.com/assets/colab-badge.svg\" alt=\"Open In Colab\"/></a>"
      ]
    },
    {
      "cell_type": "markdown",
      "metadata": {
        "id": "wdvQ6XlXL2me"
      },
      "source": [
        "### 모델링을 시작합니다.\r\n",
        "### Feature Engineering 등의 **3차 전처리**는 모델링과 함께 진행하며, 모델 성능을 높일 예정입니다."
      ]
    },
    {
      "cell_type": "markdown",
      "metadata": {
        "id": "ORTtH-BUS2Yf"
      },
      "source": [
        "#### 모델선택\r\n",
        "결과: f1-score, 정확도, AUC 가 가장 높은 그래디언트 부스팅 모델을 선택합니다."
      ]
    },
    {
      "cell_type": "code",
      "metadata": {
        "colab": {
          "base_uri": "https://localhost:8080/"
        },
        "id": "CkfRV_2lUw52",
        "outputId": "0f60e784-d0f5-4c5d-8b63-1e3f31111c0c"
      },
      "source": [
        "# 특성중요도 확인 시 필요한 eli5 라이브러리를 설치합니다.\r\n",
        "pip install eli5"
      ],
      "execution_count": null,
      "outputs": [
        {
          "output_type": "stream",
          "text": [
            "Collecting eli5\n",
            "\u001b[?25l  Downloading https://files.pythonhosted.org/packages/d1/54/04cab6e1c0ae535bec93f795d8403fdf6caf66fa5a6512263202dbb14ea6/eli5-0.11.0-py2.py3-none-any.whl (106kB)\n",
            "\r\u001b[K     |███                             | 10kB 15.1MB/s eta 0:00:01\r\u001b[K     |██████▏                         | 20kB 21.2MB/s eta 0:00:01\r\u001b[K     |█████████▎                      | 30kB 16.4MB/s eta 0:00:01\r\u001b[K     |████████████▍                   | 40kB 15.5MB/s eta 0:00:01\r\u001b[K     |███████████████▌                | 51kB 15.9MB/s eta 0:00:01\r\u001b[K     |██████████████████▌             | 61kB 13.5MB/s eta 0:00:01\r\u001b[K     |█████████████████████▋          | 71kB 12.2MB/s eta 0:00:01\r\u001b[K     |████████████████████████▊       | 81kB 13.1MB/s eta 0:00:01\r\u001b[K     |███████████████████████████▉    | 92kB 11.6MB/s eta 0:00:01\r\u001b[K     |███████████████████████████████ | 102kB 11.3MB/s eta 0:00:01\r\u001b[K     |████████████████████████████████| 112kB 11.3MB/s \n",
            "\u001b[?25hRequirement already satisfied: scikit-learn>=0.20 in /usr/local/lib/python3.7/dist-packages (from eli5) (0.22.2.post1)\n",
            "Requirement already satisfied: attrs>16.0.0 in /usr/local/lib/python3.7/dist-packages (from eli5) (20.3.0)\n",
            "Requirement already satisfied: jinja2 in /usr/local/lib/python3.7/dist-packages (from eli5) (2.11.3)\n",
            "Requirement already satisfied: graphviz in /usr/local/lib/python3.7/dist-packages (from eli5) (0.10.1)\n",
            "Requirement already satisfied: six in /usr/local/lib/python3.7/dist-packages (from eli5) (1.15.0)\n",
            "Requirement already satisfied: tabulate>=0.7.7 in /usr/local/lib/python3.7/dist-packages (from eli5) (0.8.9)\n",
            "Requirement already satisfied: scipy in /usr/local/lib/python3.7/dist-packages (from eli5) (1.4.1)\n",
            "Requirement already satisfied: numpy>=1.9.0 in /usr/local/lib/python3.7/dist-packages (from eli5) (1.19.5)\n",
            "Requirement already satisfied: joblib>=0.11 in /usr/local/lib/python3.7/dist-packages (from scikit-learn>=0.20->eli5) (1.0.1)\n",
            "Requirement already satisfied: MarkupSafe>=0.23 in /usr/local/lib/python3.7/dist-packages (from jinja2->eli5) (1.1.1)\n",
            "Installing collected packages: eli5\n",
            "Successfully installed eli5-0.11.0\n"
          ],
          "name": "stdout"
        }
      ]
    },
    {
      "cell_type": "code",
      "metadata": {
        "id": "O1u2WxUueXIo"
      },
      "source": [
        "# 추가적으로 필요한 라이브러리를 import 합니다.\r\n",
        "from sklearn.pipeline import make_pipeline\r\n",
        "from sklearn.ensemble import RandomForestClassifier, GradientBoostingClassifier\r\n",
        "from sklearn.metrics import classification_report, roc_curve, roc_auc_score, accuracy_score, f1_score\r\n",
        "from xgboost import XGBClassifier\r\n",
        "from sklearn.model_selection import GridSearchCV,train_test_split\r\n",
        "from sklearn.pipeline import Pipeline\r\n",
        "import eli5\r\n",
        "from eli5.sklearn import PermutationImportance"
      ],
      "execution_count": null,
      "outputs": []
    },
    {
      "cell_type": "markdown",
      "metadata": {
        "id": "voWoThM7QSXy"
      },
      "source": [
        "### Modeling\r\n",
        "#### 랜덤포레스트, XB부스팅, 그래디언트 부스팅 모델을 활용해 모델링을 진행해봅니다.\r\n",
        "\r\n",
        "**결과: 대체적으로 f1-score, 정확도, AUC 가 가장 높은 그래디언트 부스팅 모델을 선택합니다.**"
      ]
    },
    {
      "cell_type": "code",
      "metadata": {
        "colab": {
          "base_uri": "https://localhost:8080/"
        },
        "id": "4DUr2aEP-HxP",
        "outputId": "0309184f-3d6a-476b-bac3-1cafde084a8c"
      },
      "source": [
        "# 랜덤포레스트 활용\r\n",
        "\r\n",
        "pipe_rf = make_pipeline(\r\n",
        "    RandomForestClassifier(n_estimators=300))\r\n",
        "\r\n",
        "dists = {'randomforestclassifier__max_depth': range(3,10), 'randomforestclassifier__min_samples_leaf': range(2,20), 'randomforestclassifier__min_samples_split':range(2,10)}\r\n",
        "\r\n",
        "clf_rf = GridSearchCV(pipe_rf, param_grid=dists, cv=5, scoring='roc_auc')\r\n",
        "\r\n",
        "clf_rf.fit(X_train, y_train)\r\n",
        "pipe_rf = clf_rf.best_estimator_\r\n",
        "\r\n",
        "pipe_rf.fit(X_train, y_train)\r\n",
        "pred_rf = pipe_rf.predict(X_val)\r\n",
        "\r\n",
        "print(accuracy_score(y_val, pred_rf))\r\n",
        "print(f1_score(y_val,pred_rf))\r\n",
        "print(roc_auc_score(y_val, pred_rf))"
      ],
      "execution_count": null,
      "outputs": [
        {
          "output_type": "stream",
          "text": [
            "0.53125\n",
            "0.5508982035928144\n",
            "0.5330748536160784\n"
          ],
          "name": "stdout"
        }
      ]
    },
    {
      "cell_type": "code",
      "metadata": {
        "colab": {
          "base_uri": "https://localhost:8080/"
        },
        "id": "fpZFbnArHaZT",
        "outputId": "1460a3c0-0dca-483b-8d94-f6b3d489649f"
      },
      "source": [
        "# XGB 활용\r\n",
        "\r\n",
        "pipe_xg = make_pipeline(\r\n",
        "    XGBClassifier(n_estimators=300))\r\n",
        "\r\n",
        "dists = {'xgbclassifier__learning_rate': [0.01,0.05,0.1,0.3,0.5,1], 'xgbclassifier__min_child_weight': range(1,10), 'xgbclassifier__max_depth':range(3,10), 'xgbclassifier__colsample_bytree':[0.5,0.7,1.0]}\r\n",
        "\r\n",
        "clf_xgb = GridSearchCV(pipe_xg, param_grid=dists, cv=5, scoring='roc_auc')\r\n",
        "\r\n",
        "clf_xgb.fit(X_train, y_train)\r\n",
        "pipe_xgb = clf_xgb.best_estimator_\r\n",
        "\r\n",
        "pipe_xgb.fit(X_train, y_train)\r\n",
        "pred_xgb = pipe_xgb.predict(X_val)\r\n",
        "\r\n",
        "print(accuracy_score(y_val, pred_xgb))\r\n",
        "print(f1_score(y_val,pred_xgb))\r\n",
        "print(roc_auc_score(y_val, pred_xgb))"
      ],
      "execution_count": null,
      "outputs": [
        {
          "output_type": "stream",
          "text": [
            "0.5125\n",
            "0.5185185185185185\n",
            "0.5176451970248458\n"
          ],
          "name": "stdout"
        }
      ]
    },
    {
      "cell_type": "code",
      "metadata": {
        "colab": {
          "base_uri": "https://localhost:8080/"
        },
        "id": "DhizBo7hMamu",
        "outputId": "b78f2698-3d66-45b0-9833-4fe137c7c01b"
      },
      "source": [
        "# 그래디언트부스팅 활용\r\n",
        "# 대체적으로 f1-score, 정확도, AUC 가 가장 높은 그래디언트 부스팅 모델을 선택합니다.\r\n",
        "\r\n",
        "pipe_gb = make_pipeline(\r\n",
        "    GradientBoostingClassifier())\r\n",
        "\r\n",
        "dists = {'gradientboostingclassifier__learning_rate' : [0.01,0.05,1] ,'gradientboostingclassifier__loss' : ['deviance','exponential'],'gradientboostingclassifier__min_samples_leaf' : range(3,7), 'gradientboostingclassifier__max_depth' : range(3,10)}\r\n",
        "\r\n",
        "clf_gb = GridSearchCV(pipe_gb, param_grid=dists, cv=5, scoring='roc_auc')\r\n",
        "\r\n",
        "clf_gb.fit(X_train, y_train)\r\n",
        "pipe_gb = clf_gb.best_estimator_\r\n",
        "\r\n",
        "pipe_gb.fit(X_train, y_train)\r\n",
        "pred_gb = pipe_gb.predict(X_val)\r\n",
        "\r\n",
        "print(accuracy_score(y_val, pred_gb))\r\n",
        "print(f1_score(y_val,pred_gb))\r\n",
        "print(roc_auc_score(y_val, pred_gb))"
      ],
      "execution_count": null,
      "outputs": [
        {
          "output_type": "stream",
          "text": [
            "0.5625\n",
            "0.5512820512820513\n",
            "0.572558949200823\n"
          ],
          "name": "stdout"
        }
      ]
    },
    {
      "cell_type": "code",
      "metadata": {
        "colab": {
          "base_uri": "https://localhost:8080/"
        },
        "id": "TSGbLXTcYXkd",
        "outputId": "4442660e-670c-4001-a24e-1df372a7d4ea"
      },
      "source": [
        "# 그래디언트 부스팅 모델의 recall값, f1-score값 등 성능평가지표값을 확인합니다.\r\n",
        "\r\n",
        "print(classification_report(pred_gb, y_val))"
      ],
      "execution_count": null,
      "outputs": [
        {
          "output_type": "stream",
          "text": [
            "              precision    recall  f1-score   support\n",
            "\n",
            "           0       0.66      0.51      0.57        93\n",
            "           1       0.48      0.64      0.55        67\n",
            "\n",
            "    accuracy                           0.56       160\n",
            "   macro avg       0.57      0.57      0.56       160\n",
            "weighted avg       0.59      0.56      0.56       160\n",
            "\n"
          ],
          "name": "stdout"
        }
      ]
    },
    {
      "cell_type": "markdown",
      "metadata": {
        "id": "QyBqg1UJTnz9"
      },
      "source": [
        "### Feature Importances를 통한 Feature Engineering"
      ]
    },
    {
      "cell_type": "code",
      "metadata": {
        "id": "mF013RvlfENZ",
        "colab": {
          "base_uri": "https://localhost:8080/",
          "height": 607
        },
        "outputId": "853a3f0a-37de-4ab3-a241-03eb422f1147"
      },
      "source": [
        "# 특성 중요도를 살펴보겠습니다.\r\n",
        "\r\n",
        "gb = pipe_gb.named_steps['gradientboostingclassifier']\r\n",
        "importances = pd.Series(gb.feature_importances_, X_train.columns)\r\n",
        "\r\n",
        "plt.figure(figsize=(10,10))\r\n",
        "plt.title(f'Feature Importance')\r\n",
        "importances.sort_values()[-20:].plot.barh();"
      ],
      "execution_count": null,
      "outputs": [
        {
          "output_type": "display_data",
          "data": {
            "image/png": "[encoded data removed]",
            "text/plain": [
              "<Figure size 720x720 with 1 Axes>"
            ]
          },
          "metadata": {
            "tags": [],
            "needs_background": "light"
          }
        }
      ]
    },
    {
      "cell_type": "code",
      "metadata": {
        "colab": {
          "base_uri": "https://localhost:8080/"
        },
        "id": "rrJ03FQoVbhd",
        "outputId": "e60f5dc4-ee1d-47d4-8cfe-6f73881d6aec"
      },
      "source": [
        "# eli5 라이브러리 기반 Feature Importance 를 산출합니다.\r\n",
        "# https://eli5.readthedocs.io/en/latest/blackbox/permutation_importance.html\r\n",
        "\r\n",
        "permuter = PermutationImportance(\r\n",
        "    pipe_gb.named_steps['gradientboostingclassifier'],\r\n",
        "    scoring='accuracy',\r\n",
        "    n_iter=5)\r\n",
        "\r\n",
        "permuter.fit(X_val, y_val)\r\n",
        "\r\n",
        "feature_names = X_val.columns.tolist()\r\n",
        "pd.Series(permuter.feature_importances_, feature_names).sort_values()"
      ],
      "execution_count": null,
      "outputs": [
        {
          "output_type": "execute_result",
          "data": {
            "text/plain": [
              "Customer type_Normal                  -0.00750\n",
              "Weekday_thu                            0.00125\n",
              "Product line_Food and beverages        0.00250\n",
              "Product line_Sports and travel         0.00250\n",
              "Payment_Cash                           0.00375\n",
              "Product line_Electronic accessories    0.00500\n",
              "Product line_Home and lifestyle        0.00750\n",
              "Branch_C                               0.00875\n",
              "Weekday_sat                            0.01000\n",
              "Branch_B                               0.01000\n",
              "Total                                  0.01125\n",
              "Customer type_Member                   0.01250\n",
              "Branch_A                               0.01375\n",
              "Weekday_sun                            0.01500\n",
              "Weekday_wed                            0.01500\n",
              "Weekday_tue                            0.01625\n",
              "Time                                   0.01625\n",
              "Weekday_fri                            0.02000\n",
              "Weekday_mon                            0.02000\n",
              "Product line_Fashion accessories       0.02125\n",
              "Quantity                               0.02375\n",
              "Payment_Credit card                    0.02500\n",
              "Payment_Ewallet                        0.03125\n",
              "Rating                                 0.04375\n",
              "Unit price                             0.04375\n",
              "Product line_Health and beauty         0.04625\n",
              "dtype: float64"
            ]
          },
          "metadata": {
            "tags": []
          },
          "execution_count": 380
        }
      ]
    },
    {
      "cell_type": "code",
      "metadata": {
        "colab": {
          "base_uri": "https://localhost:8080/",
          "height": 470
        },
        "id": "ggeJouwBXX-x",
        "outputId": "a02a952f-0a0e-4161-d5df-f9199005a2c0"
      },
      "source": [
        "# 위의 자료를 시각화합니다.\r\n",
        "\r\n",
        "eli5.show_weights(\r\n",
        "    permuter,\r\n",
        "    top=None,\r\n",
        "    feature_names=feature_names)"
      ],
      "execution_count": null,
      "outputs": [
        {
          "output_type": "execute_result",
          "data": {
            "text/html": [
              "\n",
              "    <style>\n",
              "    table.eli5-weights tr:hover {\n",
              "        filter: brightness(85%);\n",
              "    }\n",
              "</style>\n",
              "\n",
              "\n",
              "\n",
              "    \n",
              "\n",
              "    \n",
              "\n",
              "    \n",
              "\n",
              "    \n",
              "\n",
              "    \n",
              "\n",
              "    \n",
              "\n",
              "\n",
              "    \n",
              "\n",
              "    \n",
              "\n",
              "    \n",
              "\n",
              "    \n",
              "\n",
              "    \n",
              "\n",
              "    \n",
              "\n",
              "\n",
              "    \n",
              "\n",
              "    \n",
              "\n",
              "    \n",
              "\n",
              "    \n",
              "\n",
              "    \n",
              "        <table class=\"eli5-weights eli5-feature-importances\" style=\"border-collapse: collapse; border: none; margin-top: 0em; table-layout: auto;\">\n",
              "    <thead>\n",
              "    <tr style=\"border: none;\">\n",
              "        <th style=\"padding: 0 1em 0 0.5em; text-align: right; border: none;\">Weight</th>\n",
              "        <th style=\"padding: 0 0.5em 0 0.5em; text-align: left; border: none;\">Feature</th>\n",
              "    </tr>\n",
              "    </thead>\n",
              "    <tbody>\n",
              "    \n",
              "        <tr style=\"background-color: hsl(120, 100.00%, 80.00%); border: none;\">\n",
              "            <td style=\"padding: 0 1em 0 0.5em; text-align: right; border: none;\">\n",
              "                0.0463\n",
              "                \n",
              "                    &plusmn; 0.0341\n",
              "                \n",
              "            </td>\n",
              "            <td style=\"padding: 0 0.5em 0 0.5em; text-align: left; border: none;\">\n",
              "                Product line_Health and beauty\n",
              "            </td>\n",
              "        </tr>\n",
              "    \n",
              "        <tr style=\"background-color: hsl(120, 100.00%, 80.76%); border: none;\">\n",
              "            <td style=\"padding: 0 1em 0 0.5em; text-align: right; border: none;\">\n",
              "                0.0438\n",
              "                \n",
              "                    &plusmn; 0.0440\n",
              "                \n",
              "            </td>\n",
              "            <td style=\"padding: 0 0.5em 0 0.5em; text-align: left; border: none;\">\n",
              "                Unit price\n",
              "            </td>\n",
              "        </tr>\n",
              "    \n",
              "        <tr style=\"background-color: hsl(120, 100.00%, 80.76%); border: none;\">\n",
              "            <td style=\"padding: 0 1em 0 0.5em; text-align: right; border: none;\">\n",
              "                0.0437\n",
              "                \n",
              "                    &plusmn; 0.0137\n",
              "                \n",
              "            </td>\n",
              "            <td style=\"padding: 0 0.5em 0 0.5em; text-align: left; border: none;\">\n",
              "                Rating\n",
              "            </td>\n",
              "        </tr>\n",
              "    \n",
              "        <tr style=\"background-color: hsl(120, 100.00%, 84.80%); border: none;\">\n",
              "            <td style=\"padding: 0 1em 0 0.5em; text-align: right; border: none;\">\n",
              "                0.0312\n",
              "                \n",
              "                    &plusmn; 0.0262\n",
              "                \n",
              "            </td>\n",
              "            <td style=\"padding: 0 0.5em 0 0.5em; text-align: left; border: none;\">\n",
              "                Payment_Ewallet\n",
              "            </td>\n",
              "        </tr>\n",
              "    \n",
              "        <tr style=\"background-color: hsl(120, 100.00%, 87.00%); border: none;\">\n",
              "            <td style=\"padding: 0 1em 0 0.5em; text-align: right; border: none;\">\n",
              "                0.0250\n",
              "                \n",
              "                    &plusmn; 0.0112\n",
              "                \n",
              "            </td>\n",
              "            <td style=\"padding: 0 0.5em 0 0.5em; text-align: left; border: none;\">\n",
              "                Payment_Credit card\n",
              "            </td>\n",
              "        </tr>\n",
              "    \n",
              "        <tr style=\"background-color: hsl(120, 100.00%, 87.46%); border: none;\">\n",
              "            <td style=\"padding: 0 1em 0 0.5em; text-align: right; border: none;\">\n",
              "                0.0238\n",
              "                \n",
              "                    &plusmn; 0.0166\n",
              "                \n",
              "            </td>\n",
              "            <td style=\"padding: 0 0.5em 0 0.5em; text-align: left; border: none;\">\n",
              "                Quantity\n",
              "            </td>\n",
              "        </tr>\n",
              "    \n",
              "        <tr style=\"background-color: hsl(120, 100.00%, 88.40%); border: none;\">\n",
              "            <td style=\"padding: 0 1em 0 0.5em; text-align: right; border: none;\">\n",
              "                0.0212\n",
              "                \n",
              "                    &plusmn; 0.0218\n",
              "                \n",
              "            </td>\n",
              "            <td style=\"padding: 0 0.5em 0 0.5em; text-align: left; border: none;\">\n",
              "                Product line_Fashion accessories\n",
              "            </td>\n",
              "        </tr>\n",
              "    \n",
              "        <tr style=\"background-color: hsl(120, 100.00%, 88.88%); border: none;\">\n",
              "            <td style=\"padding: 0 1em 0 0.5em; text-align: right; border: none;\">\n",
              "                0.0200\n",
              "                \n",
              "                    &plusmn; 0.0166\n",
              "                \n",
              "            </td>\n",
              "            <td style=\"padding: 0 0.5em 0 0.5em; text-align: left; border: none;\">\n",
              "                Weekday_mon\n",
              "            </td>\n",
              "        </tr>\n",
              "    \n",
              "        <tr style=\"background-color: hsl(120, 100.00%, 88.88%); border: none;\">\n",
              "            <td style=\"padding: 0 1em 0 0.5em; text-align: right; border: none;\">\n",
              "                0.0200\n",
              "                \n",
              "                    &plusmn; 0.0200\n",
              "                \n",
              "            </td>\n",
              "            <td style=\"padding: 0 0.5em 0 0.5em; text-align: left; border: none;\">\n",
              "                Weekday_fri\n",
              "            </td>\n",
              "        </tr>\n",
              "    \n",
              "        <tr style=\"background-color: hsl(120, 100.00%, 90.38%); border: none;\">\n",
              "            <td style=\"padding: 0 1em 0 0.5em; text-align: right; border: none;\">\n",
              "                0.0163\n",
              "                \n",
              "                    &plusmn; 0.0430\n",
              "                \n",
              "            </td>\n",
              "            <td style=\"padding: 0 0.5em 0 0.5em; text-align: left; border: none;\">\n",
              "                Time\n",
              "            </td>\n",
              "        </tr>\n",
              "    \n",
              "        <tr style=\"background-color: hsl(120, 100.00%, 90.38%); border: none;\">\n",
              "            <td style=\"padding: 0 1em 0 0.5em; text-align: right; border: none;\">\n",
              "                0.0162\n",
              "                \n",
              "                    &plusmn; 0.0218\n",
              "                \n",
              "            </td>\n",
              "            <td style=\"padding: 0 0.5em 0 0.5em; text-align: left; border: none;\">\n",
              "                Weekday_tue\n",
              "            </td>\n",
              "        </tr>\n",
              "    \n",
              "        <tr style=\"background-color: hsl(120, 100.00%, 90.91%); border: none;\">\n",
              "            <td style=\"padding: 0 1em 0 0.5em; text-align: right; border: none;\">\n",
              "                0.0150\n",
              "                \n",
              "                    &plusmn; 0.0232\n",
              "                \n",
              "            </td>\n",
              "            <td style=\"padding: 0 0.5em 0 0.5em; text-align: left; border: none;\">\n",
              "                Weekday_wed\n",
              "            </td>\n",
              "        </tr>\n",
              "    \n",
              "        <tr style=\"background-color: hsl(120, 100.00%, 90.91%); border: none;\">\n",
              "            <td style=\"padding: 0 1em 0 0.5em; text-align: right; border: none;\">\n",
              "                0.0150\n",
              "                \n",
              "                    &plusmn; 0.0127\n",
              "                \n",
              "            </td>\n",
              "            <td style=\"padding: 0 0.5em 0 0.5em; text-align: left; border: none;\">\n",
              "                Weekday_sun\n",
              "            </td>\n",
              "        </tr>\n",
              "    \n",
              "        <tr style=\"background-color: hsl(120, 100.00%, 91.44%); border: none;\">\n",
              "            <td style=\"padding: 0 1em 0 0.5em; text-align: right; border: none;\">\n",
              "                0.0137\n",
              "                \n",
              "                    &plusmn; 0.0215\n",
              "                \n",
              "            </td>\n",
              "            <td style=\"padding: 0 0.5em 0 0.5em; text-align: left; border: none;\">\n",
              "                Branch_A\n",
              "            </td>\n",
              "        </tr>\n",
              "    \n",
              "        <tr style=\"background-color: hsl(120, 100.00%, 92.00%); border: none;\">\n",
              "            <td style=\"padding: 0 1em 0 0.5em; text-align: right; border: none;\">\n",
              "                0.0125\n",
              "                \n",
              "                    &plusmn; 0.0137\n",
              "                \n",
              "            </td>\n",
              "            <td style=\"padding: 0 0.5em 0 0.5em; text-align: left; border: none;\">\n",
              "                Customer type_Member\n",
              "            </td>\n",
              "        </tr>\n",
              "    \n",
              "        <tr style=\"background-color: hsl(120, 100.00%, 92.57%); border: none;\">\n",
              "            <td style=\"padding: 0 1em 0 0.5em; text-align: right; border: none;\">\n",
              "                0.0113\n",
              "                \n",
              "                    &plusmn; 0.0539\n",
              "                \n",
              "            </td>\n",
              "            <td style=\"padding: 0 0.5em 0 0.5em; text-align: left; border: none;\">\n",
              "                Total\n",
              "            </td>\n",
              "        </tr>\n",
              "    \n",
              "        <tr style=\"background-color: hsl(120, 100.00%, 93.15%); border: none;\">\n",
              "            <td style=\"padding: 0 1em 0 0.5em; text-align: right; border: none;\">\n",
              "                0.0100\n",
              "                \n",
              "                    &plusmn; 0.0170\n",
              "                \n",
              "            </td>\n",
              "            <td style=\"padding: 0 0.5em 0 0.5em; text-align: left; border: none;\">\n",
              "                Branch_B\n",
              "            </td>\n",
              "        </tr>\n",
              "    \n",
              "        <tr style=\"background-color: hsl(120, 100.00%, 93.15%); border: none;\">\n",
              "            <td style=\"padding: 0 1em 0 0.5em; text-align: right; border: none;\">\n",
              "                0.0100\n",
              "                \n",
              "                    &plusmn; 0.0203\n",
              "                \n",
              "            </td>\n",
              "            <td style=\"padding: 0 0.5em 0 0.5em; text-align: left; border: none;\">\n",
              "                Weekday_sat\n",
              "            </td>\n",
              "        </tr>\n",
              "    \n",
              "        <tr style=\"background-color: hsl(120, 100.00%, 93.76%); border: none;\">\n",
              "            <td style=\"padding: 0 1em 0 0.5em; text-align: right; border: none;\">\n",
              "                0.0087\n",
              "                \n",
              "                    &plusmn; 0.0150\n",
              "                \n",
              "            </td>\n",
              "            <td style=\"padding: 0 0.5em 0 0.5em; text-align: left; border: none;\">\n",
              "                Branch_C\n",
              "            </td>\n",
              "        </tr>\n",
              "    \n",
              "        <tr style=\"background-color: hsl(120, 100.00%, 94.40%); border: none;\">\n",
              "            <td style=\"padding: 0 1em 0 0.5em; text-align: right; border: none;\">\n",
              "                0.0075\n",
              "                \n",
              "                    &plusmn; 0.0050\n",
              "                \n",
              "            </td>\n",
              "            <td style=\"padding: 0 0.5em 0 0.5em; text-align: left; border: none;\">\n",
              "                Product line_Home and lifestyle\n",
              "            </td>\n",
              "        </tr>\n",
              "    \n",
              "        <tr style=\"background-color: hsl(120, 100.00%, 95.79%); border: none;\">\n",
              "            <td style=\"padding: 0 1em 0 0.5em; text-align: right; border: none;\">\n",
              "                0.0050\n",
              "                \n",
              "                    &plusmn; 0.0229\n",
              "                \n",
              "            </td>\n",
              "            <td style=\"padding: 0 0.5em 0 0.5em; text-align: left; border: none;\">\n",
              "                Product line_Electronic accessories\n",
              "            </td>\n",
              "        </tr>\n",
              "    \n",
              "        <tr style=\"background-color: hsl(120, 100.00%, 96.55%); border: none;\">\n",
              "            <td style=\"padding: 0 1em 0 0.5em; text-align: right; border: none;\">\n",
              "                0.0037\n",
              "                \n",
              "                    &plusmn; 0.0061\n",
              "                \n",
              "            </td>\n",
              "            <td style=\"padding: 0 0.5em 0 0.5em; text-align: left; border: none;\">\n",
              "                Payment_Cash\n",
              "            </td>\n",
              "        </tr>\n",
              "    \n",
              "        <tr style=\"background-color: hsl(120, 100.00%, 97.41%); border: none;\">\n",
              "            <td style=\"padding: 0 1em 0 0.5em; text-align: right; border: none;\">\n",
              "                0.0025\n",
              "                \n",
              "                    &plusmn; 0.0061\n",
              "                \n",
              "            </td>\n",
              "            <td style=\"padding: 0 0.5em 0 0.5em; text-align: left; border: none;\">\n",
              "                Product line_Sports and travel\n",
              "            </td>\n",
              "        </tr>\n",
              "    \n",
              "        <tr style=\"background-color: hsl(120, 100.00%, 97.41%); border: none;\">\n",
              "            <td style=\"padding: 0 1em 0 0.5em; text-align: right; border: none;\">\n",
              "                0.0025\n",
              "                \n",
              "                    &plusmn; 0.0061\n",
              "                \n",
              "            </td>\n",
              "            <td style=\"padding: 0 0.5em 0 0.5em; text-align: left; border: none;\">\n",
              "                Product line_Food and beverages\n",
              "            </td>\n",
              "        </tr>\n",
              "    \n",
              "        <tr style=\"background-color: hsl(120, 100.00%, 98.40%); border: none;\">\n",
              "            <td style=\"padding: 0 1em 0 0.5em; text-align: right; border: none;\">\n",
              "                0.0012\n",
              "                \n",
              "                    &plusmn; 0.0122\n",
              "                \n",
              "            </td>\n",
              "            <td style=\"padding: 0 0.5em 0 0.5em; text-align: left; border: none;\">\n",
              "                Weekday_thu\n",
              "            </td>\n",
              "        </tr>\n",
              "    \n",
              "        <tr style=\"background-color: hsl(0, 100.00%, 94.40%); border: none;\">\n",
              "            <td style=\"padding: 0 1em 0 0.5em; text-align: right; border: none;\">\n",
              "                -0.0075\n",
              "                \n",
              "                    &plusmn; 0.0146\n",
              "                \n",
              "            </td>\n",
              "            <td style=\"padding: 0 0.5em 0 0.5em; text-align: left; border: none;\">\n",
              "                Customer type_Normal\n",
              "            </td>\n",
              "        </tr>\n",
              "    \n",
              "    \n",
              "    </tbody>\n",
              "</table>\n",
              "    \n",
              "\n",
              "    \n",
              "\n",
              "\n",
              "    \n",
              "\n",
              "    \n",
              "\n",
              "    \n",
              "\n",
              "    \n",
              "\n",
              "    \n",
              "\n",
              "    \n",
              "\n",
              "\n",
              "\n"
            ],
            "text/plain": [
              "<IPython.core.display.HTML object>"
            ]
          },
          "metadata": {
            "tags": []
          },
          "execution_count": 458
        }
      ]
    },
    {
      "cell_type": "code",
      "metadata": {
        "colab": {
          "base_uri": "https://localhost:8080/"
        },
        "id": "mF7C_hc4YRuc",
        "outputId": "ec586bed-52a7-4430-e816-54b230cbf74c"
      },
      "source": [
        "# 상기 중요도(FE)값이 0.0005 보다 작은 Feature값은 삭제한 후 재모델링합니다. \r\n",
        "# 결과: Score 약한 상승, 속도 증가로 인해 모델 성능이 향상됐습니다.\r\n",
        "\r\n",
        "features = X_train.columns[permuter.feature_importances_ >0.0005]\r\n",
        "selec_X_train = X_train[features]\r\n",
        "selec_X_val = X_val[features]\r\n",
        "\r\n",
        "pipe_gb.fit(selec_X_train,y_train)\r\n",
        "pred_gb = pipe_gb.predict(selec_X_val)\r\n",
        "\r\n",
        "print(accuracy_score(y_val, pred_gb).round(2))\r\n",
        "print(f1_score(y_val,pred_gb).round(2))\r\n",
        "print(roc_auc_score(y_val, pred_gb).round(2))"
      ],
      "execution_count": null,
      "outputs": [
        {
          "output_type": "stream",
          "text": [
            "0.56\n",
            "0.56\n",
            "0.57\n"
          ],
          "name": "stdout"
        }
      ]
    }
  ]
}