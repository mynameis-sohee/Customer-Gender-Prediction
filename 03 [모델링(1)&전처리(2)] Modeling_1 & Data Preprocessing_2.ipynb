{
  "nbformat": 4,
  "nbformat_minor": 0,
  "metadata": {
    "colab": {
      "name": "03 [모델링&전처리(2)] Modeling & Data Preprocessing 2",
      "provenance": []
    },
    "kernelspec": {
      "name": "python3",
      "display_name": "Python 3"
    },
    "language_info": {
      "name": "python"
    }
  },
  "cells": [
    {
      "cell_type": "markdown",
      "metadata": {
        "id": "wdvQ6XlXL2me"
      },
      "source": [
        "### **모델링을 시작합니다.**\n",
        "\n",
        "Feature Engineering 등의 3차 전처리는 모델링과 함께 진행하며, 모델 성능을 높일 예정입니다."
      ]
    },
    {
      "cell_type": "code",
      "metadata": {
        "id": "O1u2WxUueXIo"
      },
      "source": [
        "from sklearn.pipeline import make_pipeline\n",
        "from sklearn.ensemble import RandomForestClassifier, GradientBoostingClassifier\n",
        "from sklearn.impute import SimpleImputer\n",
        "from sklearn.metrics import classification_report, roc_curve, roc_auc_score, accuracy_score, f1_score\n",
        "from xgboost import XGBClassifier\n",
        "from sklearn.model_selection import GridSearchCV,train_test_split\n",
        "from sklearn.pipeline import Pipeline"
      ],
      "execution_count": null,
      "outputs": []
    },
    {
      "cell_type": "code",
      "metadata": {
        "colab": {
          "base_uri": "https://localhost:8080/"
        },
        "id": "4DUr2aEP-HxP",
        "outputId": "258a72d9-f572-448d-f1c6-3911d73fabb9"
      },
      "source": [
        "# 랜덤포레스트 모델링\n",
        "\n",
        "pipe_rf = make_pipeline(\n",
        "    RandomForestClassifier(n_estimators=300))\n",
        "\n",
        "pipe_rf.fit(X_train, y_train)\n",
        "pred_rf = pipe_rf.predict(X_val)\n",
        "\n",
        "print(accuracy_score(y_val, pred_rf))\n",
        "print(f1_score(y_val,pred_rf))\n",
        "print(roc_auc_score(y_val, pred_rf))"
      ],
      "execution_count": null,
      "outputs": [
        {
          "output_type": "stream",
          "text": [
            "0.5375\n",
            "0.5375000000000001\n",
            "0.557085020242915\n"
          ],
          "name": "stdout"
        }
      ]
    },
    {
      "cell_type": "code",
      "metadata": {
        "colab": {
          "base_uri": "https://localhost:8080/",
          "height": 299
        },
        "id": "1hHd3WJ_IjsC",
        "outputId": "d2c6d75d-6a27-4b54-916b-93cd1a9ce337"
      },
      "source": [
        "# 데이터의 균형을 살펴봅니다. 데이터가 어느정도 불균형하다고 판단되면, f1-score를 사용합니다. 그것이 아니라면, accuracy를 사용합니다.\n",
        "# 결과: TP, FN, FP, TN 값 중 FP값이 비교적 적습니다. 따라서, 안전하게 f1-score의 점수로 모델 성능을 평가합니다.\n",
        "\n",
        "plt.style.use(['ggplot'])\n",
        "\n",
        "fig, axes = plt.subplots()\n",
        "pcm = plot_confusion_matrix(pipe_rf, X_val, y_val, cmap = 'Blues', ax = axes, values_format = 'd')\n",
        "plt.title(f'Confusion Matrix, n = {len(y_val)}', weight = 'bold')\n",
        "\n",
        "plt.show();"
      ],
      "execution_count": null,
      "outputs": [
        {
          "output_type": "display_data",
          "data": {
            "image/png": "[encoded data removed]",
            "text/plain": [
              "<Figure size 432x288 with 2 Axes>"
            ]
          },
          "metadata": {
            "tags": []
          }
        }
      ]
    },
    {
      "cell_type": "code",
      "metadata": {
        "colab": {
          "base_uri": "https://localhost:8080/"
        },
        "id": "fpZFbnArHaZT",
        "outputId": "0fd0e273-f624-4936-a839-70129012dc08"
      },
      "source": [
        "# XGB 모델링\n",
        "\n",
        "pipe_xg = make_pipeline(\n",
        "    XGBClassifier(n_estimators=300))\n",
        "\n",
        "dists = {'xgbclassifier__learning_rate': [0.05,0.1,0.3], 'xgbclassifier__min_child_weight': range(1,10), 'xgbclassifier__max_depth':range(3,10), 'xgbclassifier__colsample_bytree':[0.5,0.7,1.0]}\n",
        "\n",
        "clf_xgb = GridSearchCV(pipe_xg, param_grid=dists, cv=5, scoring='roc_auc')\n",
        "\n",
        "clf_xgb.fit(X_train, y_train)\n",
        "pipe_xgb = clf_xgb.best_estimator_\n",
        "\n",
        "pipe_xgb.fit(X_train, y_train)\n",
        "pred_xgb = pipe_xgb.predict(X_val)\n",
        "\n",
        "print(accuracy_score(y_val, pred_xgb))\n",
        "print(f1_score(y_val,pred_xgb))\n",
        "print(roc_auc_score(y_val, pred_xgb))"
      ],
      "execution_count": null,
      "outputs": [
        {
          "output_type": "stream",
          "text": [
            "0.56875\n",
            "0.5490196078431372\n",
            "0.5809716599190284\n"
          ],
          "name": "stdout"
        }
      ]
    },
    {
      "cell_type": "code",
      "metadata": {
        "colab": {
          "base_uri": "https://localhost:8080/"
        },
        "id": "0R7k5xrhgbxp",
        "outputId": "fda7df91-62d6-44a3-a9c2-713339fccf1d"
      },
      "source": [
        "clf_xgb.best_estimator_"
      ],
      "execution_count": null,
      "outputs": [
        {
          "output_type": "execute_result",
          "data": {
            "text/plain": [
              "Pipeline(memory=None,\n",
              "         steps=[('xgbclassifier',\n",
              "                 XGBClassifier(base_score=0.5, booster='gbtree',\n",
              "                               colsample_bylevel=1, colsample_bynode=1,\n",
              "                               colsample_bytree=0.7, gamma=0, learning_rate=0.1,\n",
              "                               max_delta_step=0, max_depth=5,\n",
              "                               min_child_weight=1, missing=None,\n",
              "                               n_estimators=300, n_jobs=1, nthread=None,\n",
              "                               objective='binary:logistic', random_state=0,\n",
              "                               reg_alpha=0, reg_lambda=1, scale_pos_weight=1,\n",
              "                               seed=None, silent=None, subsample=1,\n",
              "                               verbosity=1))],\n",
              "         verbose=False)"
            ]
          },
          "metadata": {
            "tags": []
          },
          "execution_count": 133
        }
      ]
    },
    {
      "cell_type": "code",
      "metadata": {
        "colab": {
          "base_uri": "https://localhost:8080/",
          "height": 299
        },
        "id": "nKTS7B5GH1qY",
        "outputId": "9cc5dbf3-2f41-423c-fd4f-e4a89a3c9e82"
      },
      "source": [
        "# 데이터의 균형을 살펴봅니다. 데이터가 어느정도 불균형하다고 판단되면, f1-score를 사용합니다. 그것이 아니라면, accuracy를 사용합니다.\n",
        "\n",
        "plt.style.use(['ggplot'])\n",
        "\n",
        "fig, axes = plt.subplots()\n",
        "pcm = plot_confusion_matrix(pipe_xgb, X_val, y_val, cmap = 'Blues', ax = axes, values_format = 'd')\n",
        "plt.title(f'Confusion Matrix, n = {len(y_val)}', weight = 'bold')\n",
        "plt.show();"
      ],
      "execution_count": null,
      "outputs": [
        {
          "output_type": "display_data",
          "data": {
            "image/png": "[encoded data removed]",
            "text/plain": [
              "<Figure size 432x288 with 2 Axes>"
            ]
          },
          "metadata": {
            "tags": []
          }
        }
      ]
    },
    {
      "cell_type": "code",
      "metadata": {
        "id": "mF013RvlfENZ",
        "colab": {
          "base_uri": "https://localhost:8080/",
          "height": 609
        },
        "outputId": "84b97787-fcb1-4c7b-f154-999d85dfc786"
      },
      "source": [
        "# 특성 중요도를 살펴보겠습니다.\n",
        "\n",
        "xgb = pipe_xgb.named_steps['xgbclassifier']\n",
        "importances = pd.Series(xgb.feature_importances_, X_train.columns)\n",
        "\n",
        "plt.figure(figsize=(10,10))\n",
        "plt.title(f'Feature Importance')\n",
        "importances.sort_values()[-20:].plot.barh();"
      ],
      "execution_count": null,
      "outputs": [
        {
          "output_type": "display_data",
          "data": {
            "image/png": "[encoded data removed]",
            "text/plain": [
              "<Figure size 720x720 with 1 Axes>"
            ]
          },
          "metadata": {
            "tags": []
          }
        }
      ]
    },
    {
      "cell_type": "code",
      "metadata": {
        "colab": {
          "base_uri": "https://localhost:8080/"
        },
        "id": "WikwtxriQtU_",
        "outputId": "91188d98-6226-49ba-f281-3bfe5fc751c9"
      },
      "source": [
        "# eli5 라이브러리 기반 Feature Importance 를 산출합니다.\n",
        "# https://eli5.readthedocs.io/en/latest/blackbox/permutation_importance.html\n",
        "\n",
        "pip install eli5"
      ],
      "execution_count": null,
      "outputs": [
        {
          "output_type": "stream",
          "text": [
            "Collecting eli5\n",
            "\u001b[?25l  Downloading https://files.pythonhosted.org/packages/d1/54/04cab6e1c0ae535bec93f795d8403fdf6caf66fa5a6512263202dbb14ea6/eli5-0.11.0-py2.py3-none-any.whl (106kB)\n",
            "\r\u001b[K     |███                             | 10kB 16.2MB/s eta 0:00:01\r\u001b[K     |██████▏                         | 20kB 15.4MB/s eta 0:00:01\r\u001b[K     |█████████▎                      | 30kB 9.4MB/s eta 0:00:01\r\u001b[K     |████████████▍                   | 40kB 7.6MB/s eta 0:00:01\r\u001b[K     |███████████████▌                | 51kB 4.2MB/s eta 0:00:01\r\u001b[K     |██████████████████▌             | 61kB 4.7MB/s eta 0:00:01\r\u001b[K     |█████████████████████▋          | 71kB 4.8MB/s eta 0:00:01\r\u001b[K     |████████████████████████▊       | 81kB 5.1MB/s eta 0:00:01\r\u001b[K     |███████████████████████████▉    | 92kB 5.3MB/s eta 0:00:01\r\u001b[K     |███████████████████████████████ | 102kB 5.6MB/s eta 0:00:01\r\u001b[K     |████████████████████████████████| 112kB 5.6MB/s \n",
            "\u001b[?25hRequirement already satisfied: graphviz in /usr/local/lib/python3.7/dist-packages (from eli5) (0.10.1)\n",
            "Requirement already satisfied: six in /usr/local/lib/python3.7/dist-packages (from eli5) (1.15.0)\n",
            "Requirement already satisfied: attrs>16.0.0 in /usr/local/lib/python3.7/dist-packages (from eli5) (20.3.0)\n",
            "Requirement already satisfied: tabulate>=0.7.7 in /usr/local/lib/python3.7/dist-packages (from eli5) (0.8.9)\n",
            "Requirement already satisfied: numpy>=1.9.0 in /usr/local/lib/python3.7/dist-packages (from eli5) (1.19.5)\n",
            "Requirement already satisfied: jinja2 in /usr/local/lib/python3.7/dist-packages (from eli5) (2.11.3)\n",
            "Requirement already satisfied: scipy in /usr/local/lib/python3.7/dist-packages (from eli5) (1.4.1)\n",
            "Requirement already satisfied: scikit-learn>=0.20 in /usr/local/lib/python3.7/dist-packages (from eli5) (0.22.2.post1)\n",
            "Requirement already satisfied: MarkupSafe>=0.23 in /usr/local/lib/python3.7/dist-packages (from jinja2->eli5) (1.1.1)\n",
            "Requirement already satisfied: joblib>=0.11 in /usr/local/lib/python3.7/dist-packages (from scikit-learn>=0.20->eli5) (1.0.1)\n",
            "Installing collected packages: eli5\n",
            "Successfully installed eli5-0.11.0\n"
          ],
          "name": "stdout"
        }
      ]
    },
    {
      "cell_type": "code",
      "metadata": {
        "colab": {
          "base_uri": "https://localhost:8080/"
        },
        "id": "rrJ03FQoVbhd",
        "outputId": "4a4e0469-692c-47cb-96ff-02b7c72a12a8"
      },
      "source": [
        "# eli5 라이브러리 기반 Feature Importance 를 산출합니다.\n",
        "# https://eli5.readthedocs.io/en/latest/blackbox/permutation_importance.html\n",
        "\n",
        "import eli5\n",
        "from eli5.sklearn import PermutationImportance\n",
        "\n",
        "permuter = PermutationImportance(\n",
        "    pipe_xgb.named_steps['xgbclassifier'],\n",
        "    scoring='accuracy',\n",
        "    n_iter=5)\n",
        "\n",
        "permuter.fit(X_val, y_val)\n",
        "\n",
        "feature_names = X_val.columns.tolist()\n",
        "pd.Series(permuter.feature_importances_, feature_names).sort_values()"
      ],
      "execution_count": null,
      "outputs": [
        {
          "output_type": "stream",
          "text": [
            "/usr/local/lib/python3.7/dist-packages/sklearn/utils/deprecation.py:144: FutureWarning: The sklearn.feature_selection.base module is  deprecated in version 0.22 and will be removed in version 0.24. The corresponding classes / functions should instead be imported from sklearn.feature_selection. Anything that cannot be imported from sklearn.feature_selection is now part of the private API.\n",
            "  warnings.warn(message, FutureWarning)\n"
          ],
          "name": "stderr"
        },
        {
          "output_type": "execute_result",
          "data": {
            "text/plain": [
              "Payment_Cash                          -0.02000\n",
              "Product line_Home and lifestyle       -0.01000\n",
              "Product line_Health and beauty        -0.00875\n",
              "Product line_Sports and travel        -0.00500\n",
              "Weekday_mon                           -0.00250\n",
              "Branch_B                              -0.00250\n",
              "Payment_Ewallet                       -0.00125\n",
              "Branch_A                              -0.00125\n",
              "Customer type_Member                   0.00000\n",
              "Weekday_sat                            0.00250\n",
              "Customer type_Normal                   0.00250\n",
              "Weekday_wed                            0.00375\n",
              "Rating                                 0.00375\n",
              "Product line_Electronic accessories    0.00375\n",
              "Product line_Food and beverages        0.00500\n",
              "Branch_C                               0.00625\n",
              "Weekday_fri                            0.00625\n",
              "Weekday_thu                            0.00625\n",
              "Weekday_sun                            0.00750\n",
              "Weekday_tue                            0.00875\n",
              "Payment_Credit card                    0.01000\n",
              "Quantity                               0.01000\n",
              "Time                                   0.01375\n",
              "Unit price                             0.02625\n",
              "Product line_Fashion accessories       0.02625\n",
              "Total                                  0.04000\n",
              "dtype: float64"
            ]
          },
          "metadata": {
            "tags": []
          },
          "execution_count": 69
        }
      ]
    },
    {
      "cell_type": "code",
      "metadata": {
        "colab": {
          "base_uri": "https://localhost:8080/",
          "height": 470
        },
        "id": "ggeJouwBXX-x",
        "outputId": "c22c2950-9dd3-4e13-e761-cabf7837e009"
      },
      "source": [
        "# 위의 자료를 시각화합니다.\n",
        "\n",
        "eli5.show_weights(\n",
        "    permuter,\n",
        "    top=None,\n",
        "    feature_names=feature_names)"
      ],
      "execution_count": null,
      "outputs": [
        {
          "output_type": "execute_result",
          "data": {
            "text/html": [
              "\n",
              "    <style>\n",
              "    table.eli5-weights tr:hover {\n",
              "        filter: brightness(85%);\n",
              "    }\n",
              "</style>\n",
              "\n",
              "\n",
              "\n",
              "    \n",
              "\n",
              "    \n",
              "\n",
              "    \n",
              "\n",
              "    \n",
              "\n",
              "    \n",
              "\n",
              "    \n",
              "\n",
              "\n",
              "    \n",
              "\n",
              "    \n",
              "\n",
              "    \n",
              "\n",
              "    \n",
              "\n",
              "    \n",
              "\n",
              "    \n",
              "\n",
              "\n",
              "    \n",
              "\n",
              "    \n",
              "\n",
              "    \n",
              "\n",
              "    \n",
              "\n",
              "    \n",
              "        <table class=\"eli5-weights eli5-feature-importances\" style=\"border-collapse: collapse; border: none; margin-top: 0em; table-layout: auto;\">\n",
              "    <thead>\n",
              "    <tr style=\"border: none;\">\n",
              "        <th style=\"padding: 0 1em 0 0.5em; text-align: right; border: none;\">Weight</th>\n",
              "        <th style=\"padding: 0 0.5em 0 0.5em; text-align: left; border: none;\">Feature</th>\n",
              "    </tr>\n",
              "    </thead>\n",
              "    <tbody>\n",
              "    \n",
              "        <tr style=\"background-color: hsl(120, 100.00%, 80.00%); border: none;\">\n",
              "            <td style=\"padding: 0 1em 0 0.5em; text-align: right; border: none;\">\n",
              "                0.0400\n",
              "                \n",
              "                    &plusmn; 0.0322\n",
              "                \n",
              "            </td>\n",
              "            <td style=\"padding: 0 0.5em 0 0.5em; text-align: left; border: none;\">\n",
              "                Total\n",
              "            </td>\n",
              "        </tr>\n",
              "    \n",
              "        <tr style=\"background-color: hsl(120, 100.00%, 85.11%); border: none;\">\n",
              "            <td style=\"padding: 0 1em 0 0.5em; text-align: right; border: none;\">\n",
              "                0.0262\n",
              "                \n",
              "                    &plusmn; 0.0166\n",
              "                \n",
              "            </td>\n",
              "            <td style=\"padding: 0 0.5em 0 0.5em; text-align: left; border: none;\">\n",
              "                Product line_Fashion accessories\n",
              "            </td>\n",
              "        </tr>\n",
              "    \n",
              "        <tr style=\"background-color: hsl(120, 100.00%, 85.11%); border: none;\">\n",
              "            <td style=\"padding: 0 1em 0 0.5em; text-align: right; border: none;\">\n",
              "                0.0262\n",
              "                \n",
              "                    &plusmn; 0.0539\n",
              "                \n",
              "            </td>\n",
              "            <td style=\"padding: 0 0.5em 0 0.5em; text-align: left; border: none;\">\n",
              "                Unit price\n",
              "            </td>\n",
              "        </tr>\n",
              "    \n",
              "        <tr style=\"background-color: hsl(120, 100.00%, 90.53%); border: none;\">\n",
              "            <td style=\"padding: 0 1em 0 0.5em; text-align: right; border: none;\">\n",
              "                0.0137\n",
              "                \n",
              "                    &plusmn; 0.0414\n",
              "                \n",
              "            </td>\n",
              "            <td style=\"padding: 0 0.5em 0 0.5em; text-align: left; border: none;\">\n",
              "                Time\n",
              "            </td>\n",
              "        </tr>\n",
              "    \n",
              "        <tr style=\"background-color: hsl(120, 100.00%, 92.42%); border: none;\">\n",
              "            <td style=\"padding: 0 1em 0 0.5em; text-align: right; border: none;\">\n",
              "                0.0100\n",
              "                \n",
              "                    &plusmn; 0.0232\n",
              "                \n",
              "            </td>\n",
              "            <td style=\"padding: 0 0.5em 0 0.5em; text-align: left; border: none;\">\n",
              "                Quantity\n",
              "            </td>\n",
              "        </tr>\n",
              "    \n",
              "        <tr style=\"background-color: hsl(120, 100.00%, 92.42%); border: none;\">\n",
              "            <td style=\"padding: 0 1em 0 0.5em; text-align: right; border: none;\">\n",
              "                0.0100\n",
              "                \n",
              "                    &plusmn; 0.0100\n",
              "                \n",
              "            </td>\n",
              "            <td style=\"padding: 0 0.5em 0 0.5em; text-align: left; border: none;\">\n",
              "                Payment_Credit card\n",
              "            </td>\n",
              "        </tr>\n",
              "    \n",
              "        <tr style=\"background-color: hsl(120, 100.00%, 93.10%); border: none;\">\n",
              "            <td style=\"padding: 0 1em 0 0.5em; text-align: right; border: none;\">\n",
              "                0.0087\n",
              "                \n",
              "                    &plusmn; 0.0127\n",
              "                \n",
              "            </td>\n",
              "            <td style=\"padding: 0 0.5em 0 0.5em; text-align: left; border: none;\">\n",
              "                Weekday_tue\n",
              "            </td>\n",
              "        </tr>\n",
              "    \n",
              "        <tr style=\"background-color: hsl(120, 100.00%, 93.80%); border: none;\">\n",
              "            <td style=\"padding: 0 1em 0 0.5em; text-align: right; border: none;\">\n",
              "                0.0075\n",
              "                \n",
              "                    &plusmn; 0.0050\n",
              "                \n",
              "            </td>\n",
              "            <td style=\"padding: 0 0.5em 0 0.5em; text-align: left; border: none;\">\n",
              "                Weekday_sun\n",
              "            </td>\n",
              "        </tr>\n",
              "    \n",
              "        <tr style=\"background-color: hsl(120, 100.00%, 94.55%); border: none;\">\n",
              "            <td style=\"padding: 0 1em 0 0.5em; text-align: right; border: none;\">\n",
              "                0.0062\n",
              "                \n",
              "                    &plusmn; 0.0000\n",
              "                \n",
              "            </td>\n",
              "            <td style=\"padding: 0 0.5em 0 0.5em; text-align: left; border: none;\">\n",
              "                Weekday_thu\n",
              "            </td>\n",
              "        </tr>\n",
              "    \n",
              "        <tr style=\"background-color: hsl(120, 100.00%, 94.55%); border: none;\">\n",
              "            <td style=\"padding: 0 1em 0 0.5em; text-align: right; border: none;\">\n",
              "                0.0062\n",
              "                \n",
              "                    &plusmn; 0.0112\n",
              "                \n",
              "            </td>\n",
              "            <td style=\"padding: 0 0.5em 0 0.5em; text-align: left; border: none;\">\n",
              "                Weekday_fri\n",
              "            </td>\n",
              "        </tr>\n",
              "    \n",
              "        <tr style=\"background-color: hsl(120, 100.00%, 94.55%); border: none;\">\n",
              "            <td style=\"padding: 0 1em 0 0.5em; text-align: right; border: none;\">\n",
              "                0.0062\n",
              "                \n",
              "                    &plusmn; 0.0137\n",
              "                \n",
              "            </td>\n",
              "            <td style=\"padding: 0 0.5em 0 0.5em; text-align: left; border: none;\">\n",
              "                Branch_C\n",
              "            </td>\n",
              "        </tr>\n",
              "    \n",
              "        <tr style=\"background-color: hsl(120, 100.00%, 95.33%); border: none;\">\n",
              "            <td style=\"padding: 0 1em 0 0.5em; text-align: right; border: none;\">\n",
              "                0.0050\n",
              "                \n",
              "                    &plusmn; 0.0094\n",
              "                \n",
              "            </td>\n",
              "            <td style=\"padding: 0 0.5em 0 0.5em; text-align: left; border: none;\">\n",
              "                Product line_Food and beverages\n",
              "            </td>\n",
              "        </tr>\n",
              "    \n",
              "        <tr style=\"background-color: hsl(120, 100.00%, 96.19%); border: none;\">\n",
              "            <td style=\"padding: 0 1em 0 0.5em; text-align: right; border: none;\">\n",
              "                0.0037\n",
              "                \n",
              "                    &plusmn; 0.0061\n",
              "                \n",
              "            </td>\n",
              "            <td style=\"padding: 0 0.5em 0 0.5em; text-align: left; border: none;\">\n",
              "                Product line_Electronic accessories\n",
              "            </td>\n",
              "        </tr>\n",
              "    \n",
              "        <tr style=\"background-color: hsl(120, 100.00%, 96.19%); border: none;\">\n",
              "            <td style=\"padding: 0 1em 0 0.5em; text-align: right; border: none;\">\n",
              "                0.0037\n",
              "                \n",
              "                    &plusmn; 0.0359\n",
              "                \n",
              "            </td>\n",
              "            <td style=\"padding: 0 0.5em 0 0.5em; text-align: left; border: none;\">\n",
              "                Rating\n",
              "            </td>\n",
              "        </tr>\n",
              "    \n",
              "        <tr style=\"background-color: hsl(120, 100.00%, 96.19%); border: none;\">\n",
              "            <td style=\"padding: 0 1em 0 0.5em; text-align: right; border: none;\">\n",
              "                0.0037\n",
              "                \n",
              "                    &plusmn; 0.0100\n",
              "                \n",
              "            </td>\n",
              "            <td style=\"padding: 0 0.5em 0 0.5em; text-align: left; border: none;\">\n",
              "                Weekday_wed\n",
              "            </td>\n",
              "        </tr>\n",
              "    \n",
              "        <tr style=\"background-color: hsl(120, 100.00%, 97.13%); border: none;\">\n",
              "            <td style=\"padding: 0 1em 0 0.5em; text-align: right; border: none;\">\n",
              "                0.0025\n",
              "                \n",
              "                    &plusmn; 0.0100\n",
              "                \n",
              "            </td>\n",
              "            <td style=\"padding: 0 0.5em 0 0.5em; text-align: left; border: none;\">\n",
              "                Customer type_Normal\n",
              "            </td>\n",
              "        </tr>\n",
              "    \n",
              "        <tr style=\"background-color: hsl(120, 100.00%, 97.13%); border: none;\">\n",
              "            <td style=\"padding: 0 1em 0 0.5em; text-align: right; border: none;\">\n",
              "                0.0025\n",
              "                \n",
              "                    &plusmn; 0.0061\n",
              "                \n",
              "            </td>\n",
              "            <td style=\"padding: 0 0.5em 0 0.5em; text-align: left; border: none;\">\n",
              "                Weekday_sat\n",
              "            </td>\n",
              "        </tr>\n",
              "    \n",
              "        <tr style=\"background-color: hsl(0, 100.00%, 100.00%); border: none;\">\n",
              "            <td style=\"padding: 0 1em 0 0.5em; text-align: right; border: none;\">\n",
              "                0.0000\n",
              "                \n",
              "                    &plusmn; 0.0079\n",
              "                \n",
              "            </td>\n",
              "            <td style=\"padding: 0 0.5em 0 0.5em; text-align: left; border: none;\">\n",
              "                Customer type_Member\n",
              "            </td>\n",
              "        </tr>\n",
              "    \n",
              "        <tr style=\"background-color: hsl(0, 100.00%, 98.23%); border: none;\">\n",
              "            <td style=\"padding: 0 1em 0 0.5em; text-align: right; border: none;\">\n",
              "                -0.0012\n",
              "                \n",
              "                    &plusmn; 0.0050\n",
              "                \n",
              "            </td>\n",
              "            <td style=\"padding: 0 0.5em 0 0.5em; text-align: left; border: none;\">\n",
              "                Branch_A\n",
              "            </td>\n",
              "        </tr>\n",
              "    \n",
              "        <tr style=\"background-color: hsl(0, 100.00%, 98.23%); border: none;\">\n",
              "            <td style=\"padding: 0 1em 0 0.5em; text-align: right; border: none;\">\n",
              "                -0.0012\n",
              "                \n",
              "                    &plusmn; 0.0094\n",
              "                \n",
              "            </td>\n",
              "            <td style=\"padding: 0 0.5em 0 0.5em; text-align: left; border: none;\">\n",
              "                Payment_Ewallet\n",
              "            </td>\n",
              "        </tr>\n",
              "    \n",
              "        <tr style=\"background-color: hsl(0, 100.00%, 97.13%); border: none;\">\n",
              "            <td style=\"padding: 0 1em 0 0.5em; text-align: right; border: none;\">\n",
              "                -0.0025\n",
              "                \n",
              "                    &plusmn; 0.0170\n",
              "                \n",
              "            </td>\n",
              "            <td style=\"padding: 0 0.5em 0 0.5em; text-align: left; border: none;\">\n",
              "                Branch_B\n",
              "            </td>\n",
              "        </tr>\n",
              "    \n",
              "        <tr style=\"background-color: hsl(0, 100.00%, 97.13%); border: none;\">\n",
              "            <td style=\"padding: 0 1em 0 0.5em; text-align: right; border: none;\">\n",
              "                -0.0025\n",
              "                \n",
              "                    &plusmn; 0.0232\n",
              "                \n",
              "            </td>\n",
              "            <td style=\"padding: 0 0.5em 0 0.5em; text-align: left; border: none;\">\n",
              "                Weekday_mon\n",
              "            </td>\n",
              "        </tr>\n",
              "    \n",
              "        <tr style=\"background-color: hsl(0, 100.00%, 95.33%); border: none;\">\n",
              "            <td style=\"padding: 0 1em 0 0.5em; text-align: right; border: none;\">\n",
              "                -0.0050\n",
              "                \n",
              "                    &plusmn; 0.0050\n",
              "                \n",
              "            </td>\n",
              "            <td style=\"padding: 0 0.5em 0 0.5em; text-align: left; border: none;\">\n",
              "                Product line_Sports and travel\n",
              "            </td>\n",
              "        </tr>\n",
              "    \n",
              "        <tr style=\"background-color: hsl(0, 100.00%, 93.10%); border: none;\">\n",
              "            <td style=\"padding: 0 1em 0 0.5em; text-align: right; border: none;\">\n",
              "                -0.0088\n",
              "                \n",
              "                    &plusmn; 0.0061\n",
              "                \n",
              "            </td>\n",
              "            <td style=\"padding: 0 0.5em 0 0.5em; text-align: left; border: none;\">\n",
              "                Product line_Health and beauty\n",
              "            </td>\n",
              "        </tr>\n",
              "    \n",
              "        <tr style=\"background-color: hsl(0, 100.00%, 92.42%); border: none;\">\n",
              "            <td style=\"padding: 0 1em 0 0.5em; text-align: right; border: none;\">\n",
              "                -0.0100\n",
              "                \n",
              "                    &plusmn; 0.0100\n",
              "                \n",
              "            </td>\n",
              "            <td style=\"padding: 0 0.5em 0 0.5em; text-align: left; border: none;\">\n",
              "                Product line_Home and lifestyle\n",
              "            </td>\n",
              "        </tr>\n",
              "    \n",
              "        <tr style=\"background-color: hsl(0, 100.00%, 87.69%); border: none;\">\n",
              "            <td style=\"padding: 0 1em 0 0.5em; text-align: right; border: none;\">\n",
              "                -0.0200\n",
              "                \n",
              "                    &plusmn; 0.0200\n",
              "                \n",
              "            </td>\n",
              "            <td style=\"padding: 0 0.5em 0 0.5em; text-align: left; border: none;\">\n",
              "                Payment_Cash\n",
              "            </td>\n",
              "        </tr>\n",
              "    \n",
              "    \n",
              "    </tbody>\n",
              "</table>\n",
              "    \n",
              "\n",
              "    \n",
              "\n",
              "\n",
              "    \n",
              "\n",
              "    \n",
              "\n",
              "    \n",
              "\n",
              "    \n",
              "\n",
              "    \n",
              "\n",
              "    \n",
              "\n",
              "\n",
              "\n"
            ],
            "text/plain": [
              "<IPython.core.display.HTML object>"
            ]
          },
          "metadata": {
            "tags": []
          },
          "execution_count": 70
        }
      ]
    },
    {
      "cell_type": "code",
      "metadata": {
        "colab": {
          "base_uri": "https://localhost:8080/"
        },
        "id": "mF7C_hc4YRuc",
        "outputId": "b888ee35-b1f7-415d-f755-692ae5804a34"
      },
      "source": [
        "# 상기 중요도에서 0.0005 보다 작은 Feature값은 삭제한 후 재모델링합니다. \n",
        "# 결과: Score 약한 상승, 속도 증가로 인해 모델 성능이 향상됐습니다.\n",
        "\n",
        "features = X_train.columns[permuter.feature_importances_ >0.001]\n",
        "selec_X_train = X_train[features]\n",
        "selec_X_val = X_val[features]\n",
        "\n",
        "pipe_xgb.fit(selec_X_train,y_train)\n",
        "pred_xgb = pipe_xgb.predict(selec_X_val)\n",
        "\n",
        "print(accuracy_score(y_val, pred_xgb).round(2))\n",
        "print(f1_score(y_val,pred_xgb).round(2))\n",
        "print(roc_auc_score(y_val, pred_xgb).round(2))"
      ],
      "execution_count": null,
      "outputs": [
        {
          "output_type": "stream",
          "text": [
            "0.6\n",
            "0.56\n",
            "0.6\n"
          ],
          "name": "stdout"
        }
      ]
    },
    {
      "cell_type": "code",
      "metadata": {
        "colab": {
          "base_uri": "https://localhost:8080/"
        },
        "id": "DhizBo7hMamu",
        "outputId": "20d84140-c345-4d64-9a79-ab958f8786fc"
      },
      "source": [
        "# 그래디언트부스팅 활용\n",
        "# 결과: XGB 모델성능이 더 높으므로, XGB를 선택하는 것으로 결정합니다.\n",
        "\n",
        "pipe_gb = make_pipeline(\n",
        "    GradientBoostingClassifier())\n",
        "\n",
        "dists = {'gradientboostingclassifier__learning_rate' : [0.01,0.05,1] ,'gradientboostingclassifier__loss' : ['deviance','exponential'],'gradientboostingclassifier__min_samples_leaf' : range(3,7), 'gradientboostingclassifier__max_depth' : range(3,10)}\n",
        "\n",
        "clf_gb = GridSearchCV(pipe_gb, param_grid=dists, cv=5, scoring='roc_auc')\n",
        "\n",
        "clf_gb.fit(X_train, y_train)\n",
        "pipe_gb = clf_gb.best_estimator_\n",
        "\n",
        "pipe_gb.fit(X_train, y_train)\n",
        "pred_gb = pipe_gb.predict(X_val)\n",
        "\n",
        "print(accuracy_score(y_val, pred_gb))\n",
        "print(f1_score(y_val,pred_gb))\n",
        "print(roc_auc_score(y_val, pred_gb))"
      ],
      "execution_count": null,
      "outputs": [
        {
          "output_type": "stream",
          "text": [
            "0.525\n",
            "0.48648648648648646\n",
            "0.5295546558704454\n"
          ],
          "name": "stdout"
        }
      ]
    }
  ]
}
